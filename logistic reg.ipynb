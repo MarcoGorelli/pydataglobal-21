{
 "cells": [
  {
   "cell_type": "code",
   "execution_count": 26,
   "id": "d646b05b-9607-4820-9837-7add0a38407f",
   "metadata": {},
   "outputs": [],
   "source": [
    "import matplotlib.pyplot as plt\n",
    "import numpy as np\n",
    "import numpyro\n",
    "import pandas as pd\n",
    "import scipy.stats as stats\n",
    "import seaborn as sns\n",
    "import jax\n",
    "from numpyro.infer.reparam import TransformReparam\n",
    "import numpyro.distributions as dist\n",
    "from numpyro import handlers\n",
    "import jax.numpy as jnp"
   ]
  },
  {
   "cell_type": "markdown",
   "id": "59da33ce-e6bd-4253-b2ab-6f731eb533c4",
   "metadata": {},
   "source": [
    "## Contents\n",
    "\n",
    "### 1. Motivation\n",
    "### 2. Revision: Bayesian Logistic Regression\n",
    "### 3. Ordered target\n",
    "### 4. Ordered feature\n",
    "### 5. Bonus"
   ]
  },
  {
   "cell_type": "markdown",
   "id": "bdab002c-de17-45ca-ab6b-2a8bd777767d",
   "metadata": {},
   "source": [
    "## 1. Motivation"
   ]
  },
  {
   "cell_type": "code",
   "execution_count": 2,
   "id": "ad12ddd8-f3be-46d8-b47e-52bf28d23996",
   "metadata": {},
   "outputs": [],
   "source": [
    "# let's try doing it all with simulated data for now. kinda fun, really\n",
    "# people are responding to a survey, and...\n",
    "# let's get...political?\n",
    "# salary...seniority?\n",
    "# or is that data interesting enough already?\n",
    "# dunno mate, dunno. really, don't know."
   ]
  },
  {
   "cell_type": "code",
   "execution_count": 3,
   "id": "38153209-8acf-4fc3-bffc-8636fdf75db0",
   "metadata": {},
   "outputs": [],
   "source": [
    "# sex -> hours worked\n",
    "#     \\       |\n",
    "#      >     questionnaire answer"
   ]
  },
  {
   "cell_type": "code",
   "execution_count": 4,
   "id": "e251cb31-10b7-4844-9a40-8dec6c5a221f",
   "metadata": {},
   "outputs": [],
   "source": [
    "n_samples = 100\n",
    "edu_level = np.random.choice([0, 1, 2, 3], size=n_samples, replace=True)\n",
    "hours_worked = stats.norm(loc=2.0 + 3.0 * edu_level).rvs(size=n_samples)\n",
    "q_answer_unconstrained = stats.norm(loc=hours_worked - edu_level).rvs(size=n_samples)\n",
    "q_answer = np.where(\n",
    "    q_answer_unconstrained < 3, 0, np.where(q_answer_unconstrained < 4.5, 1, 2)\n",
    ")\n",
    "data = pd.DataFrame(\n",
    "    {\n",
    "        \"edu\": edu_level,\n",
    "        \"hours\": hours_worked,\n",
    "        \"q_answer\": q_answer,\n",
    "    }\n",
    ")"
   ]
  },
  {
   "cell_type": "code",
   "execution_count": 13,
   "id": "45df444a-7cc0-490c-963a-53abffcfdc9d",
   "metadata": {},
   "outputs": [
    {
     "data": {
      "image/png": "[encoded data removed]",
      "text/plain": [
       "<Figure size 432x288 with 1 Axes>"
      ]
     },
     "metadata": {
      "needs_background": "light"
     },
     "output_type": "display_data"
    }
   ],
   "source": [
    "ax = data['q_answer'].value_counts().sort_index().plot.bar();\n",
    "ax.set_title('Distribution of target');"
   ]
  },
  {
   "cell_type": "code",
   "execution_count": 5,
   "id": "1256146b-7bcd-4bb2-bda0-a4cabe63f154",
   "metadata": {},
   "outputs": [
    {
     "data": {
      "image/png": "[encoded data removed]",
      "text/plain": [
       "<Figure size 432x288 with 1 Axes>"
      ]
     },
     "metadata": {
      "needs_background": "light"
     },
     "output_type": "display_data"
    }
   ],
   "source": [
    "data.plot.scatter(x=\"hours\", y=\"q_answer\");"
   ]
  },
  {
   "cell_type": "code",
   "execution_count": 11,
   "id": "ce86fe2c-4099-442e-93f5-2686d7964183",
   "metadata": {},
   "outputs": [
    {
     "data": {
      "image/png": "[encoded data removed]",
      "text/plain": [
       "<Figure size 1080x288 with 4 Axes>"
      ]
     },
     "metadata": {
      "needs_background": "light"
     },
     "output_type": "display_data"
    }
   ],
   "source": [
    "fig, ax = plt.subplots(nrows=1, ncols=data[\"edu\"].nunique(), sharey=True, figsize=(15, 4))\n",
    "ax = ax.flatten()\n",
    "\n",
    "for idx, edu_ in enumerate(sorted(data[\"edu\"].unique())):\n",
    "    data[data[\"edu\"] == edu_][\"q_answer\"].value_counts().sort_index().reindex(\n",
    "        np.arange(data[\"q_answer\"].nunique())\n",
    "    ).plot.bar(ax=ax[idx])\n",
    "    ax[idx].set_title(f\"Edu level: {edu_}\")\n",
    "    ax[idx].set_ylabel('Questionnaire response')"
   ]
  },
  {
   "cell_type": "markdown",
   "id": "a4c680da-a64f-4ebd-80ea-0503b7a24af3",
   "metadata": {},
   "source": [
    "Looks like sex 1 is more likely to answer 2, and less likely to answer 0. And so, that people who work longer are more likely to answer 2."
   ]
  },
  {
   "cell_type": "markdown",
   "id": "1df353c4-a483-4683-9bef-df6d5a66fa69",
   "metadata": {},
   "source": [
    "## How to estimate the effect of both education and hours worked on survey response"
   ]
  },
  {
   "cell_type": "markdown",
   "id": "d8ae6acd-df18-4822-a26e-4cfc01bdae67",
   "metadata": {},
   "source": [
    "Target:\n",
    "- predict a real number y_unconstrained,\n",
    "- identify 2 cut points along the real number line, c_1, c_2:\n",
    "    if y_unconstrained <= c_1, then y = 0\n",
    "    if c_1 < y_unconstrained <= c_2, then y = 1\n",
    "    if y_unconstrained >= c_2, then y = 2\n",
    "\n",
    "Features:\n",
    "- hours: continuous\n",
    "    find some coefficient beta_hours_worked to multiply by hours_worked;\n",
    "- education level: ordered categorical\n",
    "    beta_max_education_level effect of having the maximum education level\n",
    "    we will take portions of it for lower levels of education"
   ]
  },
  {
   "cell_type": "code",
   "execution_count": 54,
   "id": "9f7ddbed-a8b4-4edd-a730-f9e8ac31a635",
   "metadata": {},
   "outputs": [],
   "source": [
    "def model(hours_worked, edu_level, n_responses, q_answer=None):\n",
    "    beta_hours_worked = numpyro.sample(\n",
    "        'beta_hours_worked',\n",
    "        numpyro.distributions.Normal(loc=0., scale=1.),\n",
    "    )\n",
    "    \n",
    "    beta_edu_level = numpyro.sample(\n",
    "        'beta_edu_level',\n",
    "        numpyro.distributions.Normal(loc=0., scale=1.),\n",
    "    )\n",
    "    delta = numpyro.sample(\"delta\", dist.Dirichlet(jnp.repeat(2, len(np.unique(edu_level))-1)))\n",
    "    delta_j = jnp.pad(delta, (1, 0))\n",
    "    delta_E = jnp.sum(jnp.where(jnp.arange(len(np.unique(edu_level))) <= edu_level[..., None], delta_j, 0), -1)\n",
    "        \n",
    "    q_answer_unconstrained = beta_hours_worked*hours_worked + beta_edu_level*delta_E\n",
    "    \n",
    "    with handlers.reparam(config={\"cutpoints\": TransformReparam()}):\n",
    "        cutpoints = numpyro.sample(\n",
    "            \"cutpoints\",\n",
    "            dist.TransformedDistribution(\n",
    "                dist.Dirichlet(np.ones(n_responses)),\n",
    "                dist.transforms.SimplexToOrderedTransform(anchor_point=0.),\n",
    "            ),\n",
    "        )\n",
    "    \n",
    "    with numpyro.plate('obs', len(q_answer)):\n",
    "        q_answer = numpyro.sample(\n",
    "            'q_answer',\n",
    "            numpyro.distributions.OrderedLogistic(\n",
    "                q_answer_unconstrained,\n",
    "                cutpoints,\n",
    "            ),\n",
    "            obs=q_answer,\n",
    "        )"
   ]
  },
  {
   "cell_type": "code",
   "execution_count": 55,
   "id": "a491bfb8-2187-4cba-8cba-e76aee9fd3d2",
   "metadata": {},
   "outputs": [
    {
     "name": "stderr",
     "output_type": "stream",
     "text": [
      "/Users/marcogorelli/pydataglobal-2021/venv/lib/python3.9/site-packages/numpyro/infer/mcmc.py:274: UserWarning: There are not enough devices to run parallel chains: expected 4 but got 1. Chains will be drawn sequentially. If you are running MCMC in CPU, consider using `numpyro.set_host_device_count(4)` at the beginning of your program. You can double-check how many devices are available in your system using `jax.local_device_count()`.\n",
      "  warnings.warn(\n",
      "sample: 100%|█| 2000/2000 [00:08<00:00, 237.70it/s, 15 steps of size 1.67e-01. a\n",
      "sample: 100%|█| 2000/2000 [00:00<00:00, 4048.61it/s, 31 steps of size 2.00e-01. \n",
      "sample: 100%|█| 2000/2000 [00:00<00:00, 3542.28it/s, 31 steps of size 2.04e-01. \n",
      "sample: 100%|█| 2000/2000 [00:00<00:00, 3798.73it/s, 31 steps of size 1.88e-01. \n"
     ]
    }
   ],
   "source": [
    "sampler = numpyro.infer.NUTS(model)\n",
    "mcmc = numpyro.infer.MCMC(\n",
    "    sampler,\n",
    "    num_chains=4,\n",
    "    num_samples=1000,\n",
    "    num_warmup=1000,\n",
    ")\n",
    "\n",
    "mcmc.run(\n",
    "    jax.random.PRNGKey(0),\n",
    "    hours_worked=hours_worked,\n",
    "    edu_level=edu_level,\n",
    "    n_responses=len(np.unique(q_answer)),\n",
    "    q_answer=q_answer,\n",
    ")"
   ]
  },
  {
   "cell_type": "code",
   "execution_count": 56,
   "id": "d17d98d1-79e1-4bb2-a05d-0dc9b15af12a",
   "metadata": {},
   "outputs": [
    {
     "name": "stdout",
     "output_type": "stream",
     "text": [
      "\n",
      "                         mean       std    median      5.0%     95.0%     n_eff     r_hat\n",
      "     beta_edu_level     -0.15      1.05     -0.17     -1.92      1.52   1785.88      1.00\n",
      "  beta_hours_worked      1.05      0.20      1.04      0.72      1.37   1242.57      1.00\n",
      "  cutpoints_base[0]      0.95      0.04      0.96      0.90      0.99   1841.07      1.00\n",
      "  cutpoints_base[1]      0.04      0.03      0.04      0.00      0.08   1982.46      1.00\n",
      "  cutpoints_base[2]      0.00      0.01      0.00      0.00      0.01   1477.73      1.00\n",
      "           delta[0]      0.35      0.20      0.33      0.03      0.65   2246.57      1.00\n",
      "           delta[1]      0.32      0.19      0.30      0.05      0.62   2301.45      1.00\n",
      "           delta[2]      0.32      0.17      0.30      0.04      0.59   3282.86      1.00\n",
      "\n",
      "Number of divergences: 0\n"
     ]
    }
   ],
   "source": [
    "mcmc.print_summary()"
   ]
  },
  {
   "cell_type": "markdown",
   "id": "da756c42-3eca-4868-88fa-a6e88024ab91",
   "metadata": {},
   "source": [
    "need to translate this into whatever the true education effect would have been"
   ]
  },
  {
   "cell_type": "code",
   "execution_count": 14,
   "id": "a82e72bf-cfa4-4ab0-8155-60c501fb4ecc",
   "metadata": {},
   "outputs": [
    {
     "data": {
      "text/plain": [
       "array([3, 2, 3, 3, 3, 3, 3, 1, 2, 2, 2, 3, 2, 3, 2, 2, 0, 1, 3, 3, 0, 2,\n",
       "       3, 2, 3, 2, 2, 1, 0, 1, 3, 2, 1, 2, 2, 3, 2, 0, 1, 1, 3, 3, 1, 1,\n",
       "       1, 2, 0, 2, 3, 1, 0, 1, 0, 1, 2, 1, 3, 3, 3, 0, 1, 2, 0, 0, 0, 2,\n",
       "       2, 3, 0, 0, 2, 0, 2, 2, 3, 1, 1, 3, 3, 0, 0, 1, 1, 1, 1, 3, 0, 1,\n",
       "       0, 1, 1, 2, 0, 3, 1, 3, 1, 1, 1, 0])"
      ]
     },
     "execution_count": 14,
     "metadata": {},
     "output_type": "execute_result"
    }
   ],
   "source": [
    "edu_level"
   ]
  },
  {
   "cell_type": "code",
   "execution_count": null,
   "id": "0182d33a-6c2d-402d-9f71-bd82ba705487",
   "metadata": {},
   "outputs": [],
   "source": [
    "# plan\n",
    "# 1) get the model together, check it actually works, and has a good story to tell\n",
    "# 2) think of explanations / prior predictive checks / stories, all of that\n",
    "# 3) practice, practice, practice. Need to have got here by the end of the weekend.\n",
    "\n",
    "# don't stop, need to keep going!"
   ]
  }
 ],
 "metadata": {
  "kernelspec": {
   "display_name": "pydataglobal21",
   "language": "python",
   "name": "pydataglobal21"
  },
  "language_info": {
   "codemirror_mode": {
    "name": "ipython",
    "version": 3
   },
   "file_extension": ".py",
   "mimetype": "text/x-python",
   "name": "python",
   "nbconvert_exporter": "python",
   "pygments_lexer": "ipython3",
   "version": "3.9.4"
  }
 },
 "nbformat": 4,
 "nbformat_minor": 5
}
